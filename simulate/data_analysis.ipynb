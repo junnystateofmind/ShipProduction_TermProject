{
 "cells": [
  {
   "cell_type": "code",
   "execution_count": null,
   "id": "initial_id",
   "metadata": {
    "collapsed": true
   },
   "outputs": [],
   "source": [
    "import sqlite3\n",
    "import pandas as pd\n",
    "\n",
    "# 데이터베이스 연결\n",
    "conn = sqlite3.connect('simulation_results.db')\n",
    "\n",
    "# 데이터 로드\n",
    "df = pd.read_sql_query('SELECT * FROM results', conn)\n",
    "\n",
    "# 데이터 분석\n",
    "print(\"저장된 시뮬레이션 결과:\")\n",
    "print(df.head())\n",
    "\n",
    "# 예제 분석: 평균 득점이 가장 높은 타순\n",
    "best_result = df.loc[df['average_score'].idxmax()]\n",
    "print(f\"가장 높은 평균 득점 타순: {best_result['lineup']}, 평균 득점: {best_result['average_score']}\")\n",
    "\n",
    "# 데이터베이스 연결 종료\n",
    "conn.close()\n"
   ]
  }
 ],
 "metadata": {
  "kernelspec": {
   "display_name": "Python 3",
   "language": "python",
   "name": "python3"
  },
  "language_info": {
   "codemirror_mode": {
    "name": "ipython",
    "version": 2
   },
   "file_extension": ".py",
   "mimetype": "text/x-python",
   "name": "python",
   "nbconvert_exporter": "python",
   "pygments_lexer": "ipython2",
   "version": "2.7.6"
  }
 },
 "nbformat": 4,
 "nbformat_minor": 5
}
